{
 "cells": [
  {
   "cell_type": "code",
   "execution_count": null,
   "metadata": {},
   "outputs": [],
   "source": [
    "import paho.mqtt.client as mqtt\n",
    "from random import randrange, uniform\n",
    "import time\n",
    "\n",
    "mqttBroker = \"mqtt.eclipseprojects.io\"\n",
    "client = mqtt.Client(\"Temperature_Inside\")\n",
    "client.connect(mqttBroker)\n",
    "\n",
    "while True:\n",
    "    randNumber = uniform(20.0, 21.0)\n",
    "    client.publish(\"TEMPERATURE\", randNumber)\n",
    "    print(\"Just published \" + str(randNumber) + \" to Topic TEMPERATURE\")\n",
    "    time.sleep(1)"
   ]
  }
 ],
 "metadata": {
  "kernelspec": {
   "display_name": "Python 3",
   "language": "python",
   "name": "python3"
  },
  "language_info": {
   "codemirror_mode": {
    "name": "ipython",
    "version": 3
   },
   "file_extension": ".py",
   "mimetype": "text/x-python",
   "name": "python",
   "nbconvert_exporter": "python",
   "pygments_lexer": "ipython3",
   "version": "3.10.7"
  },
  "orig_nbformat": 4
 },
 "nbformat": 4,
 "nbformat_minor": 2
}
