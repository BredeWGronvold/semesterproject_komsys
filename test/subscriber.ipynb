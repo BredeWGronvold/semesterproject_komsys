{
 "cells": [
  {
   "cell_type": "code",
   "execution_count": 2,
   "metadata": {},
   "outputs": [
    {
     "name": "stdout",
     "output_type": "stream",
     "text": [
      "Recieved message:  51\n",
      "TOPIC TEMPERATURE\n",
      "Recieved message:  20.72432030935576\n",
      "TOPIC TEMPERATURE\n",
      "Recieved message:  20.62922744367103\n",
      "TOPIC TEMPERATURE\n",
      "Recieved message:  20.56875941903471\n",
      "TOPIC TEMPERATURE\n",
      "Recieved message:  20.76003962515125\n",
      "TOPIC TEMPERATURE\n",
      "Recieved message:  20.13268850641181\n",
      "TOPIC TEMPERATURE\n",
      "Recieved message:  20.4487784289461\n",
      "TOPIC TEMPERATURE\n",
      "Recieved message:  20.772003913110773\n",
      "TOPIC TEMPERATURE\n",
      "Recieved message:  20.21447064245618\n",
      "TOPIC TEMPERATURE\n",
      "Recieved message:  20.228198676697442\n",
      "TOPIC TEMPERATURE\n"
     ]
    }
   ],
   "source": [
    "import paho.mqtt.client as mqtt\n",
    "import time\n",
    "\n",
    "\n",
    "def on_message(client, userdata, message):\n",
    "    print(\"Recieved message: \", str(message.payload.decode(\"utf-8\")))\n",
    "    print(message.topic)\n",
    "\n",
    "mqttBroker = \"mqtt.eclipseprojects.io\"\n",
    "client = mqtt.Client(\"Smartphone\")\n",
    "client.connect(mqttBroker)\n",
    "\n",
    "client.loop_start()\n",
    "client.subscribe(\"TEMPERATURE\")\n",
    "client.on_message = on_message\n",
    "\n",
    "time.sleep(10)\n",
    "client.loop_stop()\n"
   ]
  }
 ],
 "metadata": {
  "kernelspec": {
   "display_name": "Python 3",
   "language": "python",
   "name": "python3"
  },
  "language_info": {
   "codemirror_mode": {
    "name": "ipython",
    "version": 3
   },
   "file_extension": ".py",
   "mimetype": "text/x-python",
   "name": "python",
   "nbconvert_exporter": "python",
   "pygments_lexer": "ipython3",
   "version": "3.10.7"
  },
  "orig_nbformat": 4
 },
 "nbformat": 4,
 "nbformat_minor": 2
}
