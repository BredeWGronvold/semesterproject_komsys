{
 "cells": [
  {
   "cell_type": "code",
   "execution_count": null,
   "metadata": {},
   "outputs": [],
   "source": [
    "from stmpy import Driver, Machine\n",
    "\n",
    "import ipywidgets as widgets\n",
    "from IPython.display import display\n",
    "\n",
    "queue = []\n",
    "\n",
    "class TA:\n",
    "    def __init__(self):\n",
    "        print(\"Init - TA\")\n",
    "        self.button_help = widgets.Button(description = \"Help next\")\n",
    "        self.button_help.on_click(self.help_pressed)\n",
    "\n",
    "        display(self.button_help)\n",
    "\n",
    "    def show_group_progress(self):\n",
    "        print(\"Group progress\")\n",
    "\n",
    "    def help_pressed(self, b):\n",
    "        if self.button_help.description == \"Help next\":\n",
    "            self.button_help.description = \"Help finished\"\n",
    "            self.stm.send('help')\n",
    "        else:\n",
    "            self.button_help.description = \"Help next\"\n",
    "            self.stm.send('help_finished')\n",
    "\n",
    "    def help_group(self):\n",
    "        print(\"help-state\")\n",
    "        \n",
    "        \n",
    "\n",
    "\n",
    "#for TA\n",
    "t0 = {\"source\": \"initial\", \"target\": \"waiting\"}\n",
    "t1 = {\n",
    "    \"trigger\": \"help\",\n",
    "    \"source\": \"waiting\",\n",
    "    \"target\": \"assist\",\n",
    "}\n",
    "t2 = {\n",
    "    \"trigger\": \"help_finished\",\n",
    "    \"source\": \"assist\",\n",
    "    \"target\": \"waiting\",\n",
    "}\n",
    "\n",
    "\n",
    "#TA states\n",
    "waiting = {'name': 'waiting',\n",
    "      'entry': 'show_group_progress'\n",
    "      }\n",
    "assist = {'name': 'assist',\n",
    "      'entry': 'help_group'\n",
    "      }\n",
    "\n",
    "ta = TA()\n",
    "ta_machine = Machine(name='stm_ta', transitions=[t0, t1, t2], obj=ta, states=[waiting, assist])\n",
    "ta.stm = ta_machine\n",
    "\n",
    "driver = Driver()\n",
    "driver.add_machine(ta_machine)\n",
    "driver.start()\n",
    "\n",
    "\n",
    "#driver.stop()"
   ]
  }
 ],
 "metadata": {
  "kernelspec": {
   "display_name": "Python 3",
   "language": "python",
   "name": "python3"
  },
  "language_info": {
   "codemirror_mode": {
    "name": "ipython",
    "version": 3
   },
   "file_extension": ".py",
   "mimetype": "text/x-python",
   "name": "python",
   "nbconvert_exporter": "python",
   "pygments_lexer": "ipython3",
   "version": "3.10.11"
  },
  "orig_nbformat": 4,
  "vscode": {
   "interpreter": {
    "hash": "4206a21937a52b34e53760cbc7b6018a0fb15eeef658d3a105f507f4985c6abd"
   }
  }
 },
 "nbformat": 4,
 "nbformat_minor": 2
}
