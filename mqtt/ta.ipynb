{
 "cells": [
  {
   "cell_type": "code",
   "execution_count": 1,
   "metadata": {},
   "outputs": [
    {
     "name": "stdout",
     "output_type": "stream",
     "text": [
      "Init - TA\n",
      "Progress {}\n",
      "Queue []\n",
      "Progress {'16': '1'}\n",
      "Queue []\n",
      "Progress {'16': '1', '1': '1'}\n",
      "Queue []\n",
      "Helping group 1\n"
     ]
    },
    {
     "name": "stderr",
     "output_type": "stream",
     "text": [
      "Machine stm_ta is in state assist and received event help, but no transition with this event is declared!\n"
     ]
    },
    {
     "name": "stdout",
     "output_type": "stream",
     "text": [
      "Progress {'16': '1', '1': '1'}\n",
      "Queue ['16']\n",
      "Helping group 16\n",
      "Progress {'16': '1', '1': '1'}\n",
      "Queue []\n",
      "Progress {'16': '2', '1': '1'}\n",
      "Queue []\n",
      "Helping group 16\n"
     ]
    },
    {
     "name": "stderr",
     "output_type": "stream",
     "text": [
      "Machine stm_ta is in state assist and received event help, but no transition with this event is declared!\n"
     ]
    },
    {
     "name": "stdout",
     "output_type": "stream",
     "text": [
      "Progress {'16': '2', '1': '1'}\n",
      "Queue ['1']\n",
      "Helping group 1\n"
     ]
    },
    {
     "name": "stderr",
     "output_type": "stream",
     "text": [
      "Machine stm_ta is in state assist and received event update, but no transition with this event is declared!\n"
     ]
    },
    {
     "name": "stdout",
     "output_type": "stream",
     "text": [
      "Progress {'16': '3', '1': '1'}\n",
      "Queue []\n",
      "Helping group 1\n"
     ]
    },
    {
     "name": "stderr",
     "output_type": "stream",
     "text": [
      "Machine stm_ta is in state assist and received event update, but no transition with this event is declared!\n"
     ]
    },
    {
     "name": "stdout",
     "output_type": "stream",
     "text": [
      "Progress {'16': '4', '1': '1'}\n",
      "Queue []\n"
     ]
    }
   ],
   "source": [
    "from stmpy import Driver, Machine\n",
    "import ipywidgets as widgets\n",
    "from IPython.display import display\n",
    "import paho.mqtt.client as mqtt\n",
    "import time\n",
    "\n",
    "progressDict = {}\n",
    "queue = []\n",
    "\n",
    "mqttBroker = \"mqtt.eclipseprojects.io\"\n",
    "subscriber = mqtt.Client(\"TA\")\n",
    "subscriber.connect(mqttBroker)\n",
    "\n",
    "class TA:\n",
    "    def __init__(self):\n",
    "        print(\"Init - TA\")\n",
    "        self.button_help = widgets.Button(description = \"Help next\")\n",
    "\n",
    "    def show_group_progress(self):\n",
    "        print(\"Progress\", progressDict)\n",
    "        print(\"Queue\", queue)\n",
    "        if len(queue) != 0:\n",
    "            self.stm.send(\"help\")\n",
    "\n",
    "    def help_pressed(self, b):\n",
    "        self.stm.send('help_finished')\n",
    "\n",
    "    def help_group(self):\n",
    "        print(\"Helping group {}\".format(queue[0]))\n",
    "\n",
    "#for TA\n",
    "t0 = {\"source\": \"initial\", \"target\": \"waiting\"}\n",
    "t1 = {\n",
    "    \"trigger\": \"help\",\n",
    "    \"source\": \"waiting\",\n",
    "    \"target\": \"assist\"\n",
    "}\n",
    "t2 = {\n",
    "    \"trigger\": \"help_finished\",\n",
    "    \"source\": \"assist\",\n",
    "    \"target\": \"waiting\"\n",
    "}\n",
    "t3 = {\n",
    "    \"trigger\": \"update\",\n",
    "    \"source\": \"waiting\",\n",
    "    \"target\": \"waiting\"\n",
    "}\n",
    "\n",
    "#TA states\n",
    "waiting = {'name': 'waiting',\n",
    "      'entry': 'show_group_progress'\n",
    "      }\n",
    "assist = {'name': 'assist',\n",
    "      'entry': 'help_group'\n",
    "      }\n",
    "\n",
    "ta = TA()\n",
    "ta_machine = Machine(name='stm_ta', transitions=[t0, t1, t2, t3], obj=ta, states=[waiting, assist])\n",
    "ta.stm = ta_machine\n",
    "\n",
    "driver = Driver()\n",
    "driver.add_machine(ta_machine)\n",
    "driver.start()\n",
    "\n",
    "\n",
    "def on_message(client, userdata, message):\n",
    "    # Decodes the message to readable string\n",
    "    msg = message.payload.decode(\"utf-8\")\n",
    "    if message.topic == \"Help\":\n",
    "        # adds a group to queue\n",
    "        queue.append(msg)\n",
    "        ta.stm.send(\"help\")\n",
    "    elif message.topic == \"Help_finished\":\n",
    "        # removes a group from queue\n",
    "        queue.remove(msg)\n",
    "        ta.stm.send(\"help_finished\")\n",
    "    elif message.topic == \"Task\" or message.topic == \"Deliver\":\n",
    "        # split message to group and task number, for tracking progress\n",
    "        msg = msg.split(\" \")\n",
    "        progressDict[msg[0]] = msg[1]\n",
    "        ta.stm.send(\"update\")\n",
    "\n",
    "# A loop running and subscriber (TA) subscribes to different topics\n",
    "subscriber.loop_start()\n",
    "subscriber.subscribe(\"Help\")\n",
    "subscriber.subscribe(\"Help_finished\")\n",
    "subscriber.subscribe(\"Task\")\n",
    "subscriber.subscribe(\"Deliver\")\n",
    "\n",
    "# Triggered each time a message is published\n",
    "subscriber.on_message = on_message\n",
    "\n",
    "# The length of the loop\n",
    "time.sleep(600)\n",
    "subscriber.loop_stop()\n",
    "\n",
    "driver.stop()"
   ]
  }
 ],
 "metadata": {
  "kernelspec": {
   "display_name": "Python 3",
   "language": "python",
   "name": "python3"
  },
  "language_info": {
   "codemirror_mode": {
    "name": "ipython",
    "version": 3
   },
   "file_extension": ".py",
   "mimetype": "text/x-python",
   "name": "python",
   "nbconvert_exporter": "python",
   "pygments_lexer": "ipython3",
   "version": "3.10.7"
  },
  "orig_nbformat": 4
 },
 "nbformat": 4,
 "nbformat_minor": 2
}
