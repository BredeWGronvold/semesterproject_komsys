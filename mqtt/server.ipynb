{
 "cells": [
  {
   "cell_type": "code",
   "execution_count": 1,
   "metadata": {},
   "outputs": [
    {
     "name": "stdout",
     "output_type": "stream",
     "text": [
      "2023-05-01\n",
      "{\n",
      "  \"group\": 16,\n",
      "  \"1\": \"\",\n",
      "  \"2\": \"\",\n",
      "  \"3\": \"\",\n",
      "  \"4\": \"\",\n",
      "  \"5\": \"\"\n",
      "}\n"
     ]
    }
   ],
   "source": [
    "import paho.mqtt.client as mqtt\n",
    "import time\n",
    "from datetime import date\n",
    "\n",
    "today = date.today()\n",
    "\n",
    "\n",
    "\n",
    "def on_message(client, userdata, message):\n",
    "    msg = message.payload.decode(\"utf-8\")\n",
    "    f = open(\"{}.txt\".format(today), \"a\")\n",
    "    f.write(msg)\n",
    "    f.close()\n",
    "\n",
    "\n",
    "mqttBroker = \"mqtt.eclipseprojects.io\"\n",
    "subscriber = mqtt.Client(\"\")\n",
    "subscriber.connect(mqttBroker)\n",
    "\n",
    "subscriber.loop_start()\n",
    "subscriber.subscribe(\"Deliver_save\")\n",
    "\n",
    "# Triggered each time a message is published\n",
    "subscriber.on_message = on_message\n",
    "\n",
    "# The length of the loop\n",
    "time.sleep(600)\n",
    "subscriber.loop_stop()"
   ]
  }
 ],
 "metadata": {
  "kernelspec": {
   "display_name": "Python 3",
   "language": "python",
   "name": "python3"
  },
  "language_info": {
   "codemirror_mode": {
    "name": "ipython",
    "version": 3
   },
   "file_extension": ".py",
   "mimetype": "text/x-python",
   "name": "python",
   "nbconvert_exporter": "python",
   "pygments_lexer": "ipython3",
   "version": "3.10.7"
  },
  "orig_nbformat": 4
 },
 "nbformat": 4,
 "nbformat_minor": 2
}
